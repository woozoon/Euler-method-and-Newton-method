{
 "cells": [
  {
   "cell_type": "markdown",
   "metadata": {},
   "source": [
    "## Newton's method \n",
    "뉴턴법 사용시 주의 해야할 점은 중간에 f’(x)가 0이 되는 지점으로 근사를 하면 안된다. 그러나 코드에서 f’(x)가 0 이 되는 지점에 딱 x값이 걸리기에는 매우 희박한 확률이어서 고려하지 않았다.\n",
    "\n",
    "원하는 함수를 문자열로 사용자에게 입력받으면 근사 반복횟수와 시작 지점에 맞게 해 하나를 찾아낼 수 있게 프로그램을 짰고 예를 들어 방정식 x**2-2 의 해를 근사한 출력값 1.4142 는 실제 근인 루트 2  (1.414 )와 비슷한 값으로 수렴함을 확인 할 수 있다."
   ]
  },
  {
   "cell_type": "code",
   "execution_count": 1,
   "metadata": {},
   "outputs": [
    {
     "name": "stdout",
     "output_type": "stream",
     "text": [
      "the root is found to be 1.4142135623730951 after 100interception\n"
     ]
    }
   ],
   "source": [
    "def newtonsmethod(func,funcderiv,x,n):\n",
    "    def f(x):\n",
    "        f=eval(func)\n",
    "        return f\n",
    "    def df(x):\n",
    "        df=eval(funcderiv)\n",
    "        return df\n",
    "    for itercept in range(1,n):\n",
    "        i=x-(f(x)/df(x))\n",
    "        x=i\n",
    "    print(f\"the root is found to be {x} after {n}interception\")\n",
    "    \n",
    "newtonsmethod(\"x**2-2\",\"2*x\",2,100)"
   ]
  },
  {
   "cell_type": "markdown",
   "metadata": {},
   "source": [
    "## Euler’s method  \n",
    "예시로 지수함수 3**x 를 x=0부터 x=4까지 오일러 방법으로 구한 값과 실제 함수를 그래프적으로 비교한다. step size h를 0.1로 잡은 경우  "
   ]
  },
  {
   "cell_type": "code",
   "execution_count": 6,
   "metadata": {},
   "outputs": [
    {
     "data": {
      "image/png": "[encoded data removed]",
      "text/plain": [
       "<Figure size 432x288 with 1 Axes>"
      ]
     },
     "metadata": {
      "needs_background": "light"
     },
     "output_type": "display_data"
    }
   ],
   "source": [
    "import numpy as np\n",
    "import matplotlib.pyplot as plt\n",
    "\n",
    "y=lambda x: 3**x\n",
    "y_prime=lambda x:(3**x)*np.log(3)\n",
    "\n",
    "h=0.1\n",
    "xmove=np.arange(0,4,0.1)\n",
    "\n",
    "first_x=xmove[0]\n",
    "first_y=y(first_x)\n",
    "\n",
    "y_euler=[first_y]\n",
    "for x in xmove[1:]:\n",
    "    y_k=y_euler[-1]+h*y_prime(x)\n",
    "    y_euler.append(y_k)\n",
    "    \n",
    "plt.plot(xmove,y(xmove),label=\"Actual function\")\n",
    "plt.plot(xmove,y_euler,label=\"by Euler Method\");\n"
   ]
  }
 ],
 "metadata": {
  "kernelspec": {
   "display_name": "Python 3",
   "language": "python",
   "name": "python3"
  },
  "language_info": {
   "codemirror_mode": {
    "name": "ipython",
    "version": 3
   },
   "file_extension": ".py",
   "mimetype": "text/x-python",
   "name": "python",
   "nbconvert_exporter": "python",
   "pygments_lexer": "ipython3",
   "version": "3.7.6"
  }
 },
 "nbformat": 4,
 "nbformat_minor": 4
}
